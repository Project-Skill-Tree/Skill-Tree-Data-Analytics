{
 "cells": [
  {
   "attachments": {},
   "cell_type": "markdown",
   "metadata": {},
   "source": [
    "# Outlier Users\n",
    "In this notebook we will analyse outliers in the dataset. These come in various shapes and forms. We will look at 3 types of outliers. \n",
    "1) Those with negative *xp*.\n",
    "2) Those with very high *xp*.\n",
    "3) Those whose character is neither *male* nor *female*."
   ]
  },
  {
   "attachments": {},
   "cell_type": "markdown",
   "metadata": {},
   "source": [
    "### Load data"
   ]
  },
  {
   "cell_type": "code",
   "execution_count": 1,
   "metadata": {},
   "outputs": [],
   "source": [
    "import utilities.data as ud\n",
    "import utilities.users as uu\n",
    "import pandas as pd\n",
    "import matplotlib.pyplot as plt\n",
    "\n",
    "DATA_DIR = \"./data\""
   ]
  },
  {
   "cell_type": "code",
   "execution_count": 2,
   "metadata": {},
   "outputs": [],
   "source": [
    "# Execute only if you want to fetch the data from the Database.\n",
    "ud.fetch_data(DATA_DIR)"
   ]
  },
  {
   "cell_type": "code",
   "execution_count": 3,
   "metadata": {},
   "outputs": [],
   "source": [
    "users, challenges, items, skills, tasks = ud.read_data(DATA_DIR)\n",
    "\n",
    "# We are only interested in active users.\n",
    "users = uu.process(uu.active(users))"
   ]
  },
  {
   "attachments": {},
   "cell_type": "markdown",
   "metadata": {},
   "source": [
    "### Analysis"
   ]
  },
  {
   "attachments": {},
   "cell_type": "markdown",
   "metadata": {},
   "source": [
    "First we will have a look at users with less than 0 xp points. The existence of such users suggests a bug in the system, possibly caused by a player unmarking a skill as complete."
   ]
  },
  {
   "cell_type": "code",
   "execution_count": 4,
   "metadata": {},
   "outputs": [
    {
     "data": {
      "text/html": [
       "<div>\n",
       "<style scoped>\n",
       "    .dataframe tbody tr th:only-of-type {\n",
       "        vertical-align: middle;\n",
       "    }\n",
       "\n",
       "    .dataframe tbody tr th {\n",
       "        vertical-align: top;\n",
       "    }\n",
       "\n",
       "    .dataframe thead th {\n",
       "        text-align: right;\n",
       "    }\n",
       "</style>\n",
       "<table border=\"1\" class=\"dataframe\">\n",
       "  <thead>\n",
       "    <tr style=\"text-align: right;\">\n",
       "      <th></th>\n",
       "      <th>_id</th>\n",
       "      <th>xp</th>\n",
       "      <th>xpHistory</th>\n",
       "      <th>items</th>\n",
       "      <th>skillscompleted</th>\n",
       "      <th>skillsinprogress</th>\n",
       "      <th>challengescompleted</th>\n",
       "      <th>challengesinprogress</th>\n",
       "      <th>character</th>\n",
       "      <th>timezone</th>\n",
       "      <th>baselocation</th>\n",
       "      <th>lastTracked</th>\n",
       "      <th>numDaysTracked</th>\n",
       "      <th>reminderSent</th>\n",
       "    </tr>\n",
       "  </thead>\n",
       "  <tbody>\n",
       "    <tr>\n",
       "      <th>4663</th>\n",
       "      <td>63e598ddb0f5c03625155c75</td>\n",
       "      <td>-60</td>\n",
       "      <td>[0]</td>\n",
       "      <td>[ObjectId('62c382d46cac02c487e243cb'), ObjectI...</td>\n",
       "      <td>[]</td>\n",
       "      <td>[ObjectId('62c226cf9efefadfd10e20ad'), ObjectI...</td>\n",
       "      <td>[]</td>\n",
       "      <td>[]</td>\n",
       "      <td>male</td>\n",
       "      <td>0.0</td>\n",
       "      <td>1054376021975113869</td>\n",
       "      <td>2023-02-15 03:32:30.211</td>\n",
       "      <td>6</td>\n",
       "      <td>1</td>\n",
       "    </tr>\n",
       "  </tbody>\n",
       "</table>\n",
       "</div>"
      ],
      "text/plain": [
       "                           _id  xp xpHistory  \\\n",
       "4663  63e598ddb0f5c03625155c75 -60       [0]   \n",
       "\n",
       "                                                  items skillscompleted  \\\n",
       "4663  [ObjectId('62c382d46cac02c487e243cb'), ObjectI...              []   \n",
       "\n",
       "                                       skillsinprogress challengescompleted  \\\n",
       "4663  [ObjectId('62c226cf9efefadfd10e20ad'), ObjectI...                  []   \n",
       "\n",
       "     challengesinprogress character  timezone         baselocation  \\\n",
       "4663                   []      male       0.0  1054376021975113869   \n",
       "\n",
       "                  lastTracked  numDaysTracked  reminderSent  \n",
       "4663  2023-02-15 03:32:30.211               6             1  "
      ]
     },
     "execution_count": 4,
     "metadata": {},
     "output_type": "execute_result"
    }
   ],
   "source": [
    "users[users[\"xp\"]<0]"
   ]
  },
  {
   "attachments": {},
   "cell_type": "markdown",
   "metadata": {},
   "source": [
    "Here is the data for the 0.1% top users."
   ]
  },
  {
   "cell_type": "code",
   "execution_count": 5,
   "metadata": {},
   "outputs": [
    {
     "data": {
      "text/html": [
       "<div>\n",
       "<style scoped>\n",
       "    .dataframe tbody tr th:only-of-type {\n",
       "        vertical-align: middle;\n",
       "    }\n",
       "\n",
       "    .dataframe tbody tr th {\n",
       "        vertical-align: top;\n",
       "    }\n",
       "\n",
       "    .dataframe thead th {\n",
       "        text-align: right;\n",
       "    }\n",
       "</style>\n",
       "<table border=\"1\" class=\"dataframe\">\n",
       "  <thead>\n",
       "    <tr style=\"text-align: right;\">\n",
       "      <th></th>\n",
       "      <th>_id</th>\n",
       "      <th>xp</th>\n",
       "      <th>xpHistory</th>\n",
       "      <th>items</th>\n",
       "      <th>skillscompleted</th>\n",
       "      <th>skillsinprogress</th>\n",
       "      <th>challengescompleted</th>\n",
       "      <th>challengesinprogress</th>\n",
       "      <th>character</th>\n",
       "      <th>timezone</th>\n",
       "      <th>baselocation</th>\n",
       "      <th>lastTracked</th>\n",
       "      <th>numDaysTracked</th>\n",
       "      <th>reminderSent</th>\n",
       "    </tr>\n",
       "  </thead>\n",
       "  <tbody>\n",
       "    <tr>\n",
       "      <th>381</th>\n",
       "      <td>62c9e671c6fc4a6d588902dc</td>\n",
       "      <td>166390</td>\n",
       "      <td>[0, 0, 2420, 11020, 16640, 27340, 38740, 43840...</td>\n",
       "      <td>[ObjectId('62c382d46cac02c487e243cb'), ObjectI...</td>\n",
       "      <td>[ObjectId('62c226cf9efefadfd10e20ad'), ObjectI...</td>\n",
       "      <td>[ObjectId('62c226d69efefadfd10e2167'), ObjectI...</td>\n",
       "      <td>[ObjectId('62c226d09efefadfd10e20bb'), ObjectI...</td>\n",
       "      <td>[]</td>\n",
       "      <td>male</td>\n",
       "      <td>-4.0</td>\n",
       "      <td>953924192259170335</td>\n",
       "      <td>2023-04-01 09:26:19.637</td>\n",
       "      <td>149</td>\n",
       "      <td>1</td>\n",
       "    </tr>\n",
       "    <tr>\n",
       "      <th>406</th>\n",
       "      <td>62cbb64d17466f8557f81ee5</td>\n",
       "      <td>138860</td>\n",
       "      <td>[0, 5190, 8840, 12340, 12340, 15940, 23640, 33...</td>\n",
       "      <td>[ObjectId('62c382d46cac02c487e243cb'), ObjectI...</td>\n",
       "      <td>[ObjectId('62c226cf9efefadfd10e20ad'), ObjectI...</td>\n",
       "      <td>[ObjectId('62c226d69efefadfd10e216e'), ObjectI...</td>\n",
       "      <td>[ObjectId('62c226d09efefadfd10e20bb'), ObjectI...</td>\n",
       "      <td>[]</td>\n",
       "      <td>male</td>\n",
       "      <td>-8.0</td>\n",
       "      <td>333805141746515980</td>\n",
       "      <td>2023-06-10 22:16:02.511</td>\n",
       "      <td>364</td>\n",
       "      <td>-1</td>\n",
       "    </tr>\n",
       "    <tr>\n",
       "      <th>936</th>\n",
       "      <td>62f928203ab35244f0edb52b</td>\n",
       "      <td>214050</td>\n",
       "      <td>[0, 0, 0, 560, 2660, 6110, 9130, 15480, 22480,...</td>\n",
       "      <td>[ObjectId('62c382d46cac02c487e243cb'), ObjectI...</td>\n",
       "      <td>[ObjectId('62c226cf9efefadfd10e20b2'), ObjectI...</td>\n",
       "      <td>[ObjectId('62c226d19efefadfd10e20d6')]</td>\n",
       "      <td>[ObjectId('62c226d09efefadfd10e20bb'), ObjectI...</td>\n",
       "      <td>[]</td>\n",
       "      <td>male</td>\n",
       "      <td>0.0</td>\n",
       "      <td>975859572969455646</td>\n",
       "      <td>2023-06-11 18:36:20.631</td>\n",
       "      <td>234</td>\n",
       "      <td>-1</td>\n",
       "    </tr>\n",
       "    <tr>\n",
       "      <th>1403</th>\n",
       "      <td>62fec820f73481669ecc9eb1</td>\n",
       "      <td>137150</td>\n",
       "      <td>[0, 0, 340, 1440, 6290, 10680, 13580, 14980, 2...</td>\n",
       "      <td>[ObjectId('62c382d46cac02c487e243cb'), ObjectI...</td>\n",
       "      <td>[ObjectId('62c226cf9efefadfd10e20b2'), ObjectI...</td>\n",
       "      <td>[]</td>\n",
       "      <td>[ObjectId('62c226df9efefadfd10e2242'), ObjectI...</td>\n",
       "      <td>[]</td>\n",
       "      <td>male</td>\n",
       "      <td>-6.0</td>\n",
       "      <td>953924192259170335</td>\n",
       "      <td>2023-04-10 01:01:35.887</td>\n",
       "      <td>475</td>\n",
       "      <td>1</td>\n",
       "    </tr>\n",
       "  </tbody>\n",
       "</table>\n",
       "</div>"
      ],
      "text/plain": [
       "                           _id      xp  \\\n",
       "381   62c9e671c6fc4a6d588902dc  166390   \n",
       "406   62cbb64d17466f8557f81ee5  138860   \n",
       "936   62f928203ab35244f0edb52b  214050   \n",
       "1403  62fec820f73481669ecc9eb1  137150   \n",
       "\n",
       "                                              xpHistory  \\\n",
       "381   [0, 0, 2420, 11020, 16640, 27340, 38740, 43840...   \n",
       "406   [0, 5190, 8840, 12340, 12340, 15940, 23640, 33...   \n",
       "936   [0, 0, 0, 560, 2660, 6110, 9130, 15480, 22480,...   \n",
       "1403  [0, 0, 340, 1440, 6290, 10680, 13580, 14980, 2...   \n",
       "\n",
       "                                                  items  \\\n",
       "381   [ObjectId('62c382d46cac02c487e243cb'), ObjectI...   \n",
       "406   [ObjectId('62c382d46cac02c487e243cb'), ObjectI...   \n",
       "936   [ObjectId('62c382d46cac02c487e243cb'), ObjectI...   \n",
       "1403  [ObjectId('62c382d46cac02c487e243cb'), ObjectI...   \n",
       "\n",
       "                                        skillscompleted  \\\n",
       "381   [ObjectId('62c226cf9efefadfd10e20ad'), ObjectI...   \n",
       "406   [ObjectId('62c226cf9efefadfd10e20ad'), ObjectI...   \n",
       "936   [ObjectId('62c226cf9efefadfd10e20b2'), ObjectI...   \n",
       "1403  [ObjectId('62c226cf9efefadfd10e20b2'), ObjectI...   \n",
       "\n",
       "                                       skillsinprogress  \\\n",
       "381   [ObjectId('62c226d69efefadfd10e2167'), ObjectI...   \n",
       "406   [ObjectId('62c226d69efefadfd10e216e'), ObjectI...   \n",
       "936              [ObjectId('62c226d19efefadfd10e20d6')]   \n",
       "1403                                                 []   \n",
       "\n",
       "                                    challengescompleted challengesinprogress  \\\n",
       "381   [ObjectId('62c226d09efefadfd10e20bb'), ObjectI...                   []   \n",
       "406   [ObjectId('62c226d09efefadfd10e20bb'), ObjectI...                   []   \n",
       "936   [ObjectId('62c226d09efefadfd10e20bb'), ObjectI...                   []   \n",
       "1403  [ObjectId('62c226df9efefadfd10e2242'), ObjectI...                   []   \n",
       "\n",
       "     character  timezone        baselocation              lastTracked  \\\n",
       "381       male      -4.0  953924192259170335  2023-04-01 09:26:19.637   \n",
       "406       male      -8.0  333805141746515980  2023-06-10 22:16:02.511   \n",
       "936       male       0.0  975859572969455646  2023-06-11 18:36:20.631   \n",
       "1403      male      -6.0  953924192259170335  2023-04-10 01:01:35.887   \n",
       "\n",
       "      numDaysTracked  reminderSent  \n",
       "381              149             1  \n",
       "406              364            -1  \n",
       "936              234            -1  \n",
       "1403             475             1  "
      ]
     },
     "execution_count": 5,
     "metadata": {},
     "output_type": "execute_result"
    }
   ],
   "source": [
    "top_users = users[users[\"xp\"]>users[\"xp\"].quantile(0.999)]\n",
    "top_users"
   ]
  },
  {
   "attachments": {},
   "cell_type": "markdown",
   "metadata": {},
   "source": [
    "We will now calculate the coefficient of variation $C_v=\\frac{\\sigma}{\\mu}$, for the top users. As a reminder, a higher value of $C_v$ corresponds to higher variation in the dataset. "
   ]
  },
  {
   "cell_type": "code",
   "execution_count": 6,
   "metadata": {},
   "outputs": [
    {
     "name": "stdout",
     "output_type": "stream",
     "text": [
      "The coefficient of variation is 0.2187\n"
     ]
    }
   ],
   "source": [
    "cv = uu.coeff_variation(top_users, \"xp\")\n",
    "print(f\"The coefficient of variation is {cv:.4f}\")"
   ]
  },
  {
   "attachments": {},
   "cell_type": "markdown",
   "metadata": {},
   "source": [
    "We will also calculate the coefficient of variation of the entire dataset. A high value (over 1) here indicates that the data is very spread out."
   ]
  },
  {
   "cell_type": "code",
   "execution_count": 7,
   "metadata": {},
   "outputs": [
    {
     "name": "stdout",
     "output_type": "stream",
     "text": [
      "The coefficient of variation is 3.5567\n"
     ]
    }
   ],
   "source": [
    "cv = uu.coeff_variation(users, \"xp\")\n",
    "print(f\"The coefficient of variation is {cv:.4f}\")"
   ]
  },
  {
   "attachments": {},
   "cell_type": "markdown",
   "metadata": {},
   "source": [
    "A good way to quantify exactly how extreme their *xp* level is in comparison to other active users is to look at how many *Standard deviations* they stray away from the mean. For refference, if the data was normally distributed, we'd expect 99.7% of the data to be within 3 standards deviations of the mean."
   ]
  },
  {
   "cell_type": "code",
   "execution_count": 8,
   "metadata": {},
   "outputs": [
    {
     "name": "stdout",
     "output_type": "stream",
     "text": [
      "The user at poisition number 1 is 18.359 stds away from the mean.\n",
      "The user at poisition number 2 is 14.208 stds away from the mean.\n",
      "The user at poisition number 3 is 11.811 stds away from the mean.\n",
      "The user at poisition number 4 is 11.662 stds away from the mean.\n"
     ]
    }
   ],
   "source": [
    "top_users = top_users.sort_values(\"xp\", ascending=False)\n",
    "\n",
    "j = 0\n",
    "\n",
    "for i, user in top_users.iterrows():\n",
    "    j += 1\n",
    "    v = abs(user[\"xp\"]-users[\"xp\"].mean())/users[\"xp\"].std()\n",
    "    print(f\"The user at poisition number {j} is {v:.3f} stds away from the mean.\")"
   ]
  },
  {
   "attachments": {},
   "cell_type": "markdown",
   "metadata": {},
   "source": [
    "Another way to view the outliers in the dataset is to view the *xp* level and the number of days tracked. This lets us see two dimensions of outliers. Those who have been using SkillTree consistently for a very long time, and those who have high *xp*. It is also important to note that those users who have a high *xp* level and low number of tracked days are \"intense users\" in the sense that they have been able to progress enormously in a short amount of time."
   ]
  },
  {
   "cell_type": "code",
   "execution_count": 9,
   "metadata": {},
   "outputs": [
    {
     "data": {
      "text/plain": [
       "<matplotlib.collections.PathCollection at 0x2aeaae188b0>"
      ]
     },
     "execution_count": 9,
     "metadata": {},
     "output_type": "execute_result"
    },
    {
     "data": {
      "image/png": "[encoded data removed]",
      "text/plain": [
       "<Figure size 640x480 with 1 Axes>"
      ]
     },
     "metadata": {},
     "output_type": "display_data"
    }
   ],
   "source": [
    "plt.title(\"XP / Days Tracked\")\n",
    "plt.scatter(users[\"numDaysTracked\"], users[\"xp\"], c=users[\"reminderSent\"])"
   ]
  },
  {
   "attachments": {},
   "cell_type": "markdown",
   "metadata": {},
   "source": [
    "Finally we will look at the last type of outlier, the users who have the gender of the character set to neither male nor female."
   ]
  },
  {
   "cell_type": "code",
   "execution_count": 10,
   "metadata": {},
   "outputs": [
    {
     "data": {
      "text/html": [
       "<div>\n",
       "<style scoped>\n",
       "    .dataframe tbody tr th:only-of-type {\n",
       "        vertical-align: middle;\n",
       "    }\n",
       "\n",
       "    .dataframe tbody tr th {\n",
       "        vertical-align: top;\n",
       "    }\n",
       "\n",
       "    .dataframe thead th {\n",
       "        text-align: right;\n",
       "    }\n",
       "</style>\n",
       "<table border=\"1\" class=\"dataframe\">\n",
       "  <thead>\n",
       "    <tr style=\"text-align: right;\">\n",
       "      <th></th>\n",
       "      <th>_id</th>\n",
       "      <th>xp</th>\n",
       "      <th>xpHistory</th>\n",
       "      <th>items</th>\n",
       "      <th>skillscompleted</th>\n",
       "      <th>skillsinprogress</th>\n",
       "      <th>challengescompleted</th>\n",
       "      <th>challengesinprogress</th>\n",
       "      <th>character</th>\n",
       "      <th>timezone</th>\n",
       "      <th>baselocation</th>\n",
       "      <th>lastTracked</th>\n",
       "      <th>numDaysTracked</th>\n",
       "      <th>reminderSent</th>\n",
       "    </tr>\n",
       "  </thead>\n",
       "  <tbody>\n",
       "    <tr>\n",
       "      <th>1495</th>\n",
       "      <td>6301810ef73481669ecd49a8</td>\n",
       "      <td>1900</td>\n",
       "      <td>[0, 0, 500, 900, 900, 1600, 1900, 1900]</td>\n",
       "      <td>[ObjectId('62c226d09efefadfd10e20c6'), ObjectI...</td>\n",
       "      <td>[ObjectId('62c226cf9efefadfd10e20ad'), ObjectI...</td>\n",
       "      <td>[ObjectId('62c226d19efefadfd10e20d9'), ObjectI...</td>\n",
       "      <td>[]</td>\n",
       "      <td>[ObjectId('62c226df9efefadfd10e2242'), ObjectI...</td>\n",
       "      <td>ok</td>\n",
       "      <td>-6.0</td>\n",
       "      <td>497222488145788929</td>\n",
       "      <td>2022-09-29 21:57:05.492</td>\n",
       "      <td>31</td>\n",
       "      <td>1</td>\n",
       "    </tr>\n",
       "  </tbody>\n",
       "</table>\n",
       "</div>"
      ],
      "text/plain": [
       "                           _id    xp                                xpHistory  \\\n",
       "1495  6301810ef73481669ecd49a8  1900  [0, 0, 500, 900, 900, 1600, 1900, 1900]   \n",
       "\n",
       "                                                  items  \\\n",
       "1495  [ObjectId('62c226d09efefadfd10e20c6'), ObjectI...   \n",
       "\n",
       "                                        skillscompleted  \\\n",
       "1495  [ObjectId('62c226cf9efefadfd10e20ad'), ObjectI...   \n",
       "\n",
       "                                       skillsinprogress challengescompleted  \\\n",
       "1495  [ObjectId('62c226d19efefadfd10e20d9'), ObjectI...                  []   \n",
       "\n",
       "                                   challengesinprogress character  timezone  \\\n",
       "1495  [ObjectId('62c226df9efefadfd10e2242'), ObjectI...        ok      -6.0   \n",
       "\n",
       "            baselocation              lastTracked  numDaysTracked  \\\n",
       "1495  497222488145788929  2022-09-29 21:57:05.492              31   \n",
       "\n",
       "      reminderSent  \n",
       "1495             1  "
      ]
     },
     "execution_count": 10,
     "metadata": {},
     "output_type": "execute_result"
    }
   ],
   "source": [
    "users[(users[\"character\"] != \"male\") & (users[\"character\"] != \"female\")]"
   ]
  }
 ],
 "metadata": {
  "kernelspec": {
   "display_name": ".venv",
   "language": "python",
   "name": "python3"
  },
  "language_info": {
   "codemirror_mode": {
    "name": "ipython",
    "version": 3
   },
   "file_extension": ".py",
   "mimetype": "text/x-python",
   "name": "python",
   "nbconvert_exporter": "python",
   "pygments_lexer": "ipython3",
   "version": "3.10.11"
  },
  "orig_nbformat": 4
 },
 "nbformat": 4,
 "nbformat_minor": 2
}
