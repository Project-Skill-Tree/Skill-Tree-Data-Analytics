{
 "cells": [
  {
   "attachments": {},
   "cell_type": "markdown",
   "metadata": {},
   "source": [
    "# Skills Correlations\n",
    "In this Notebook we will analyse the correlations that exist between the completion rates of different skills."
   ]
  },
  {
   "attachments": {},
   "cell_type": "markdown",
   "metadata": {},
   "source": [
    "### Imports and Load Data"
   ]
  },
  {
   "cell_type": "code",
   "execution_count": null,
   "metadata": {},
   "outputs": [],
   "source": [
    "import utilities.data as ud\n",
    "import utilities.users as uu\n",
    "import pandas as pd\n",
    "import matplotlib.pyplot as plt\n",
    "import seaborn as sns\n",
    "\n",
    "DATA_DIR = \"./data\""
   ]
  },
  {
   "cell_type": "code",
   "execution_count": null,
   "metadata": {},
   "outputs": [],
   "source": [
    "# Execute this cell *only* if you wish to fetch the data from the Database.\n",
    "ud.fetch_data(DATA_DIR)"
   ]
  },
  {
   "attachments": {},
   "cell_type": "markdown",
   "metadata": {},
   "source": [
    "### Data processing\n",
    "Note that we're only interested in non-null users (those with more than 0 *xp* points) for the entirety of this Notebook."
   ]
  },
  {
   "cell_type": "code",
   "execution_count": null,
   "metadata": {},
   "outputs": [],
   "source": [
    "users, challenges, items, skills, tasks = ud.read_data(DATA_DIR)\n",
    "users = uu.process(uu.non_null(users))"
   ]
  },
  {
   "cell_type": "code",
   "execution_count": null,
   "metadata": {},
   "outputs": [],
   "source": [
    "# This cell may take some time to execute.\n",
    "users = uu.add_completions_per_category(users, skills)"
   ]
  },
  {
   "attachments": {},
   "cell_type": "markdown",
   "metadata": {},
   "source": [
    "### Correlation Matrix\n",
    "In the following section we will be analysing the *correlation matrix* of the completion rates of skills per category.\n",
    "\n",
    "Any negative values in this matrix should be analysed in detail, as this would mean that completing certain skills would make it less likely for users to complete others. Of course, this result is not expected."
   ]
  },
  {
   "cell_type": "code",
   "execution_count": null,
   "metadata": {},
   "outputs": [],
   "source": [
    "users_completion_rates = users[[category + \"C\" for category in skills[\"category\"].unique()]]\n",
    "corr_matrix = users_completion_rates.corr()\n",
    "corr_matrix"
   ]
  },
  {
   "attachments": {},
   "cell_type": "markdown",
   "metadata": {},
   "source": [
    "The following heatmap provides a more intuitive visualisation of the *correlation matrix*."
   ]
  },
  {
   "cell_type": "code",
   "execution_count": null,
   "metadata": {},
   "outputs": [],
   "source": [
    "sns.heatmap(corr_matrix)"
   ]
  },
  {
   "attachments": {},
   "cell_type": "markdown",
   "metadata": {},
   "source": [
    "We now calculate the *mean correlation* for each of the categories. This is a measure of the *leverage* that each category has. A higher number means that users that complete skills in that category are more likely to complete skills in other ones. It would therefore be a good idea to encourage users to complete high leverage skills, to encourage more activity throughout the entire *Skill Tree*.\n",
    "\n",
    "It is important to interpret these results in context. For example, if the score for *MENTAL HEALTH* is low, it could mean that some of its skills are very easy to complete and that some users have only completed skills in this category. It is also important to note that certain categories do not contain many skills.\n",
    "\n",
    "It would also be possible to modify this Notebook in order to only analyse users in the upper quartiles of *xp*, to minimise the effect explained above."
   ]
  },
  {
   "cell_type": "code",
   "execution_count": null,
   "metadata": {},
   "outputs": [],
   "source": [
    "corr_matrix.mean()"
   ]
  },
  {
   "attachments": {},
   "cell_type": "markdown",
   "metadata": {},
   "source": [
    "Another informative way to view the correlations is with respect to the mean correlation. In this way, a value of 2 in the following matrix would mean that those two skills correlate twice as much as the mean correlation. "
   ]
  },
  {
   "cell_type": "code",
   "execution_count": null,
   "metadata": {},
   "outputs": [],
   "source": [
    "corr_matrix/corr_matrix.unstack().mean()"
   ]
  },
  {
   "attachments": {},
   "cell_type": "markdown",
   "metadata": {},
   "source": [
    "Another visualisation for completion rates is the following scatter plot. "
   ]
  },
  {
   "cell_type": "code",
   "execution_count": null,
   "metadata": {},
   "outputs": [],
   "source": [
    "# This is an example for mindfulness and screentime.\n",
    "plt.title(\"Completions per category\")\n",
    "plt.ylabel(\"Mindfulness\")\n",
    "plt.xlabel(\"Screentime\")\n",
    "\n",
    "plt.scatter(users_completion_rates[\"screentimeC\"], users_completion_rates[\"mindfulnessC\"])"
   ]
  },
  {
   "attachments": {},
   "cell_type": "markdown",
   "metadata": {},
   "source": [
    "We can display all such *scatter plots* at once in the following *pair plot*. Also note that the diagonal displays a univariate distribution plot to show the marginal distribution of the data in each column."
   ]
  },
  {
   "cell_type": "code",
   "execution_count": null,
   "metadata": {},
   "outputs": [],
   "source": [
    "sns.pairplot(users_completion_rates)"
   ]
  }
 ],
 "metadata": {
  "kernelspec": {
   "display_name": ".venv",
   "language": "python",
   "name": "python3"
  },
  "language_info": {
   "codemirror_mode": {
    "name": "ipython",
    "version": 3
   },
   "file_extension": ".py",
   "mimetype": "text/x-python",
   "name": "python",
   "nbconvert_exporter": "python",
   "pygments_lexer": "ipython3",
   "version": "3.10.11"
  },
  "orig_nbformat": 4
 },
 "nbformat": 4,
 "nbformat_minor": 2
}
